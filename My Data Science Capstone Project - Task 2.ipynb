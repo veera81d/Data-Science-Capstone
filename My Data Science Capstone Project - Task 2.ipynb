{
    "nbformat_minor": 1, 
    "cells": [
        {
            "source": "### Now that you have built a dataframe of the postal code of each neighborhood along with the borough name and neighborhood name, in order to utilize the Foursquare location data, we need to get the latitude and the longitude coordinates of each neighborhood.\n\n### In an older version of this course, we were leveraging the Google Maps Geocoding API to get the latitude and the longitude coordinates of each neighborhood. However, recently Google started charging for their API: http://geoawesomeness.com/developers-up-in-arms-over-google-maps-api-insane-price-hike/, so we will use the Geocoder Python package instead: https://geocoder.readthedocs.io/index.html.\n\n#### The problem with this Package is you have to be persistent sometimes in order to get the geographical coordinates of a given postal code. So you can make a call to get the latitude and longitude coordinates of a given postal code and the result would be None, and then make the call again and you would get the coordinates. So, in order to make sure that you get the coordinates for all of our neighborhoods, you can run a while loop for each postal code. Taking postal code M5G as an example, your code would look something like this:", 
            "cell_type": "markdown", 
            "metadata": {}
        }, 
        {
            "execution_count": 8, 
            "cell_type": "code", 
            "metadata": {}, 
            "outputs": [], 
            "source": "import pandas as pd\nimport numpy as np\nfrom bs4 import BeautifulSoup\nimport requests\n\nwikipedia_link='https://en.wikipedia.org/wiki/List_of_postal_codes_of_Canada:_M'\nraw_wikipedia_page= requests.get(wikipedia_link).text\n\nsoup = BeautifulSoup(raw_wikipedia_page,'lxml')\n#print(soup.prettify())\n"
        }, 
        {
            "execution_count": 9, 
            "cell_type": "code", 
            "metadata": {}, 
            "outputs": [], 
            "source": "table = soup.find('table')\n\nPostcode      = []\nBorough       = []\nNeighbourhood = []\n\n# print(table)\n\nfor tr_cell in table.find_all('tr'):\n    \n    counter = 1\n    Postcode_var      = -1\n    Borough_var       = -1\n    Neighbourhood_var = -1\n    \n    for td_cell in tr_cell.find_all('td'):\n        if counter == 1: \n            Postcode_var = td_cell.text\n        if counter == 2: \n            Borough_var = td_cell.text\n            tag_a_Borough = td_cell.find('a')\n            \n        if counter == 3: \n            Neighbourhood_var = str(td_cell.text).strip()\n            tag_a_Neighbourhood = td_cell.find('a')\n            \n        counter +=1\n        \n    if (Postcode_var == 'Not assigned' or Borough_var == 'Not assigned' or Neighbourhood_var == 'Not assigned'): \n        continue\n    try:\n        if ((tag_a_Borough is None) or (tag_a_Neighbourhood is None)):\n            continue\n    except:\n        pass\n    if(Postcode_var == -1 or Borough_var == -1 or Neighbourhood_var == -1):\n        continue\n        \n    Postcode.append(Postcode_var)\n    Borough.append(Borough_var)\n    Neighbourhood.append(Neighbourhood_var)\n    "
        }, 
        {
            "execution_count": 10, 
            "cell_type": "code", 
            "metadata": {}, 
            "outputs": [], 
            "source": "unique_p = set(Postcode)\n# print('num of unique Postal codes:', len(unique_p))\nPostcode_u      = []\nBorough_u       = []\nNeighbourhood_u = []\n\n\nfor postcode_unique_element in unique_p:\n    p_var = ''; b_var = ''; n_var = ''; \n    for postcode_idx, postcode_element in enumerate(Postcode):\n        if postcode_unique_element == postcode_element:\n            p_var = postcode_element;\n            b_var = Borough[postcode_idx]\n            if n_var == '': \n                n_var = Neighbourhood[postcode_idx]\n            else:\n                n_var = n_var + ', ' + Neighbourhood[postcode_idx]\n    Postcode_u.append(p_var)\n    Borough_u.append(b_var)\n    Neighbourhood_u.append(n_var)\n"
        }, 
        {
            "execution_count": 6, 
            "cell_type": "code", 
            "metadata": {}, 
            "outputs": [
                {
                    "output_type": "stream", 
                    "name": "stdout", 
                    "text": "geocoder has been installed before.\ngeocoder has been successfully imported.\n"
                }
            ], 
            "source": "!pip install geocoder\nprint('geocoder has been installed before.')\nimport geocoder\nprint('geocoder has been successfully imported.')"
        }, 
        {
            "execution_count": 31, 
            "cell_type": "code", 
            "metadata": {}, 
            "outputs": [
                {
                    "output_type": "stream", 
                    "name": "stdout", 
                    "text": "M4X is RECEIVED.\nM4G is RECEIVED.\nM9M is RECEIVED.\nM1W is RECEIVED.\nM1J is RECEIVED.\nM9P is RECEIVED.\nM1G is RECEIVED.\nM4J is RECEIVED.\nM8Y is RECEIVED.\nM5A is RECEIVED.\nM1C is RECEIVED.\nM5L is RECEIVED.\nM8V is RECEIVED.\nM6R is RECEIVED.\nM8Z is RECEIVED.\nM5M is RECEIVED.\nM1N is RECEIVED.\nM2H is RECEIVED.\nM4C is RECEIVED.\nM3K is RECEIVED.\nM6P is RECEIVED.\nM9C is RECEIVED.\nM4B is RECEIVED.\nM4E is RECEIVED.\nM4K is RECEIVED.\nM9R is RECEIVED.\nM6L is RECEIVED.\nM4V is RECEIVED.\nM5X is RECEIVED.\nM4L is RECEIVED.\nM9L is RECEIVED.\nM1R is RECEIVED.\nM6A is RECEIVED.\nM3C is RECEIVED.\nM1V is RECEIVED.\nM5K is RECEIVED.\nM1H is RECEIVED.\nM3H is RECEIVED.\nM9N is RECEIVED.\nM6B is RECEIVED.\nM6M is RECEIVED.\nM1T is RECEIVED.\nM5B is RECEIVED.\nM8W is RECEIVED.\nM5P is RECEIVED.\nM5T is RECEIVED.\nM3L is RECEIVED.\nM3A is RECEIVED.\nM9A is RECEIVED.\nM1M is RECEIVED.\nM4H is RECEIVED.\nM5C is RECEIVED.\nM6J is RECEIVED.\nM6S is RECEIVED.\nM1E is RECEIVED.\nM5S is RECEIVED.\nM4T is RECEIVED.\nM5H is RECEIVED.\nM9B is RECEIVED.\nM2J is RECEIVED.\nM6K is RECEIVED.\nM1B is RECEIVED.\nM2K is RECEIVED.\nM4Y is RECEIVED.\nM1S is RECEIVED.\nM5R is RECEIVED.\nM6H is RECEIVED.\nM1K is RECEIVED.\nM8X is RECEIVED.\nM3J is RECEIVED.\nM1P is RECEIVED.\nM1X is RECEIVED.\nM5J is RECEIVED.\nM4W is RECEIVED.\nM2M is RECEIVED.\nM1L is RECEIVED.\nM2R is RECEIVED.\nM4N is RECEIVED.\nM9W is RECEIVED.\nM4A is RECEIVED.\nM5V is RECEIVED.\nM5E is RECEIVED.\nM9V is RECEIVED.\nM2L is RECEIVED.\n"
                }
            ], 
            "source": "latitude = []\nlongitude = []\nfor elem in Postcode_u:\n# initialize your variable to None\n    lat_lng_coords = None\n\n# loop until you get the coordinates\n    while (lat_lng_coords is None):\n        g = geocoder.google('{}, Toronto, Ontario'.format(elem))\n        lat_lng_coords = g.latlng\n        # print(lat_lng_coords)\n\n    latitude.append(lat_lng_coords[0])\n    longitude.append(lat_lng_coords[1])\n    print(elem, 'is RECEIVED.')\n    # print(lat_lng_coords[0])\n    # print(lat_lng_coords[1])\n    "
        }, 
        {
            "execution_count": 34, 
            "cell_type": "code", 
            "metadata": {}, 
            "outputs": [
                {
                    "execution_count": 34, 
                    "metadata": {}, 
                    "data": {
                        "text/html": "<div>\n<style scoped>\n    .dataframe tbody tr th:only-of-type {\n        vertical-align: middle;\n    }\n\n    .dataframe tbody tr th {\n        vertical-align: top;\n    }\n\n    .dataframe thead th {\n        text-align: right;\n    }\n</style>\n<table border=\"1\" class=\"dataframe\">\n  <thead>\n    <tr style=\"text-align: right;\">\n      <th></th>\n      <th>Postcode</th>\n      <th>Borough</th>\n      <th>Neighbourhood</th>\n      <th>Latitude</th>\n      <th>Longitude</th>\n    </tr>\n  </thead>\n  <tbody>\n    <tr>\n      <th>0</th>\n      <td>M4X</td>\n      <td>Downtown Toronto</td>\n      <td>Cabbagetown, St. James Town</td>\n      <td>43.667967</td>\n      <td>-79.367675</td>\n    </tr>\n    <tr>\n      <th>1</th>\n      <td>M4G</td>\n      <td>East York</td>\n      <td>Leaside</td>\n      <td>43.709060</td>\n      <td>-79.363452</td>\n    </tr>\n    <tr>\n      <th>2</th>\n      <td>M9M</td>\n      <td>North York</td>\n      <td>Emery, Humberlea</td>\n      <td>43.724766</td>\n      <td>-79.532242</td>\n    </tr>\n    <tr>\n      <th>3</th>\n      <td>M1W</td>\n      <td>Scarborough</td>\n      <td>Steeles West</td>\n      <td>43.799525</td>\n      <td>-79.318389</td>\n    </tr>\n    <tr>\n      <th>4</th>\n      <td>M1J</td>\n      <td>Scarborough</td>\n      <td>Scarborough Village</td>\n      <td>43.744734</td>\n      <td>-79.239476</td>\n    </tr>\n    <tr>\n      <th>5</th>\n      <td>M9P</td>\n      <td>Etobicoke</td>\n      <td>Westmount</td>\n      <td>43.696319</td>\n      <td>-79.532242</td>\n    </tr>\n    <tr>\n      <th>6</th>\n      <td>M1G</td>\n      <td>Scarborough</td>\n      <td>Woburn</td>\n      <td>43.770992</td>\n      <td>-79.216917</td>\n    </tr>\n    <tr>\n      <th>7</th>\n      <td>M4J</td>\n      <td>East York</td>\n      <td>East Toronto</td>\n      <td>43.685347</td>\n      <td>-79.338106</td>\n    </tr>\n    <tr>\n      <th>8</th>\n      <td>M8Y</td>\n      <td>Etobicoke</td>\n      <td>Humber Bay, King's Mill Park, Mimico NE, Old M...</td>\n      <td>43.636258</td>\n      <td>-79.498509</td>\n    </tr>\n    <tr>\n      <th>9</th>\n      <td>M5A</td>\n      <td>Downtown Toronto</td>\n      <td>Harbourfront, Regent Park</td>\n      <td>43.654260</td>\n      <td>-79.360636</td>\n    </tr>\n  </tbody>\n</table>\n</div>", 
                        "text/plain": "  Postcode           Borough  \\\n0      M4X  Downtown Toronto   \n1      M4G         East York   \n2      M9M        North York   \n3      M1W       Scarborough   \n4      M1J       Scarborough   \n5      M9P         Etobicoke   \n6      M1G       Scarborough   \n7      M4J         East York   \n8      M8Y         Etobicoke   \n9      M5A  Downtown Toronto   \n\n                                       Neighbourhood   Latitude  Longitude  \n0                        Cabbagetown, St. James Town  43.667967 -79.367675  \n1                                            Leaside  43.709060 -79.363452  \n2                                   Emery, Humberlea  43.724766 -79.532242  \n3                                       Steeles West  43.799525 -79.318389  \n4                                Scarborough Village  43.744734 -79.239476  \n5                                          Westmount  43.696319 -79.532242  \n6                                             Woburn  43.770992 -79.216917  \n7                                       East Toronto  43.685347 -79.338106  \n8  Humber Bay, King's Mill Park, Mimico NE, Old M...  43.636258 -79.498509  \n9                          Harbourfront, Regent Park  43.654260 -79.360636  "
                    }, 
                    "output_type": "execute_result"
                }
            ], 
            "source": "toronto_dict = {'Postcode':Postcode_u, 'Borough':Borough_u, 'Neighbourhood':Neighbourhood_u,\n              'Latitude': latitude, 'Longitude':longitude}\ndf_toronto = pd.DataFrame.from_dict(toronto_dict)\ndf_toronto.to_csv('toronto_base.csv')\ndf_toronto.head(10)"
        }
    ], 
    "metadata": {
        "kernelspec": {
            "display_name": "Python 3.5", 
            "name": "python3", 
            "language": "python"
        }, 
        "language_info": {
            "mimetype": "text/x-python", 
            "nbconvert_exporter": "python", 
            "version": "3.5.5", 
            "name": "python", 
            "file_extension": ".py", 
            "pygments_lexer": "ipython3", 
            "codemirror_mode": {
                "version": 3, 
                "name": "ipython"
            }
        }
    }, 
    "nbformat": 4
}